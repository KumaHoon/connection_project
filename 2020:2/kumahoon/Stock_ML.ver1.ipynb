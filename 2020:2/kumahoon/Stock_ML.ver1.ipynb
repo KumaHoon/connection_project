{
 "cells": [
  {
   "cell_type": "markdown",
   "metadata": {},
   "source": [
    "# Crawling\n",
    "\n"
   ]
  },
  {
   "cell_type": "markdown",
   "metadata": {},
   "source": [
    "## Web 환경의 이해 "
   ]
  },
  {
   "cell_type": "code",
   "execution_count": 8,
   "metadata": {},
   "outputs": [],
   "source": [
    "from IPython.display import Image\n",
    "import requests # HTTP 요청을 보내는 모듈\n",
    "from bs4 import BeautifulSoup # 웹 크롤링 (아직 사용 안함)\n",
    "import csv\n",
    "import datetime\n",
    "import pandas as pd\n",
    "from sklearn.preprocessing import MinMaxScaler # -1 < x < 1로 만든다. (x - 평균)/ (최댓값 - 최솟값)\n",
    "import math\n",
    "import numpy as np\n",
    "\n",
    "from keras.models import Sequential\n",
    "from keras.layers import Dense, LSTM"
   ]
  },
  {
   "cell_type": "markdown",
   "metadata": {},
   "source": [
    "### 1. 웹 환경\n",
    "\n",
    "**1) 서버(Server): 서비스를 제공하는 컴퓨터**\n",
    "\n",
    "\n",
    "\n",
    "**2) 클라이언트(Client): 서비스를 사용하는 사용자 또는 사용자의 단말기**\n",
    "\n",
    "\n",
    "\n",
    "**3) 서버의 주소**\n",
    "\n",
    "- URL(IP 와 Port로 구성)\n",
    "\n",
    "- ex) 192.168.x.x.:88\n",
    "\n",
    "\n",
    "\n",
    "**4) 서버의 종류(port)**\n",
    "\n",
    "- 웹 서버(80)\n",
    "\n",
    "- 데이터베이스 서버(mysql:3306)\n",
    "\n",
    "- DNS 서버(1023, 53)\n",
    "\n",
    "- FTP 서버(21)\n",
    "\n",
    "- ssh 서버(22)\n",
    "\n",
    "- 메일 서버(110, 25, 143) 등\n",
    "\n",
    "\n",
    "![Server & Client](https://upload.wikimedia.org/wikipedia/commons/thumb/c/c9/Client-server-model.svg/500px-Client-server-model.svg.png)\n",
    "[그림 1] Server & Client (출처: https://ko.wikipedia.org/wiki/클라이언트_서버_모델)\n",
    "\n",
    "\n",
    "\n",
    "**5) HTTP**\n",
    "\n",
    "- HTTP(HyperText Transfer Protocol)는 WWW 상에서 정보를 주고 받을 수 있는 프로토콜(일종의 약속)\n",
    "\n",
    "\n",
    "\n",
    "**6) Request : 서버로 요청**\n",
    "\n",
    "- GET : 정보를 가져오는 역할\n",
    "\n",
    "- POST : 정보를 수정, 입력하는 역할\n",
    "\n",
    "\n",
    "\n",
    "**7) Response: 서버로 부터 응답**\n",
    "\n",
    "- HTML, Javascript, css, image 등\n",
    "\n",
    "\n",
    "\n",
    "\n",
    "![Request & Response](https://img1.daumcdn.net/thumb/R1280x0/?scode=mtistory2&fname=http%3A%2F%2Fcfile6.uf.tistory.com%2Fimage%2F222EC240590744D4073413)\n",
    "[그림 2] Request & Response (출처: https://gregorybeamer.wordpress.com)\n",
    "\n",
    "\n",
    "\n",
    "### 2. Frontend : HTML, css, javascript\n",
    "\n",
    "- 사용자가 브라우저ㄴ에 정보를 보고, 웹 서버에게 특정 정보를 요청(request)하기 위한 사전 작업을 수행\n",
    "\n",
    "\n",
    "\n",
    "**1) HTML(Hyper Text Markup Language)**\n",
    "\n",
    "- 웹 페이지를 구조적으로 나타내는 문서\n",
    "\n",
    "- 데이터\n",
    "\n",
    "\n",
    "\n",
    "**2) CSS**\n",
    "\n",
    "- HTML 파일을 꾸며주는 역할\n",
    "\n",
    "- 디자인\n",
    "\n",
    "\n",
    "\n",
    "**3) JavaScript**\n",
    "\n",
    "- 객체 기반의 스크립트 언어\n",
    "\n",
    "- 사용자의 편의성을 제공\n",
    "\n",
    "\n",
    "![HTML, CSS, JavaScript](https://img1.daumcdn.net/thumb/R1280x0/?scode=mtistory2&fname=http%3A%2F%2Fcfile5.uf.tistory.com%2Fimage%2F2706CA44590744A02F4334)\n",
    "[그림 3] HTML, CSS, JavaScript (출처: http://www.tedroche.com/)\n",
    "\n",
    "\n",
    "\n",
    "\n",
    "\n",
    "\n",
    "\n",
    "### 3. Backend : 웹 서버, DB 서버, 웹 프레임 워크\n",
    "\n",
    "- 사용자의 요청을 받아, 저장되어 있는 정보를 각 사용자에게 적합한 페이지를 전송\n",
    "\n",
    "\n",
    "\n",
    "**1) 웹 서버(Apache, IIS, nginx, GWS, 등)**\n",
    "\n",
    "- 사용자의 요청에 맞게 데이터(HTML, Image 등)를 전송해주는 프로그램\n",
    "\n",
    "\n",
    "\n",
    "**2) 데이터 베이스(MsSQL, Oracle, MySQL, PostgreSQL, MongoDB 등)**\n",
    "\n",
    "- 사용자의 정보를 저장하는 저장소\n",
    "\n",
    "\n",
    "\n",
    "**3) 스크립트 엔진(php, jsp, asp)**\n",
    "\n",
    "- 웹 서버에서 사용자의 요청을 분석해주는 프로그램\n",
    "\n",
    "\n",
    "\n",
    "**4) 웹 프레임 워크(Django, Ruby on Rails, ASP.NET 등)**\n",
    "\n",
    "- 웹 개발을 편리하게 만들어 주는 도구\n",
    "\n",
    "- 생산성 향상\n",
    "\n",
    "\n",
    "\n",
    "출처: https://excelsior-cjh.tistory.com/81?category=952027 [EXCELSIOR]\n"
   ]
  },
  {
   "cell_type": "markdown",
   "metadata": {},
   "source": [
    "BeautifulSoup와 Scrapy는 둘 다 웹 크롤링(Web Crawling)을 해주는 Python 패키지들이다.\n",
    "\n",
    "\n",
    "\n",
    "**1. BeautifulSoup VS Scrapy**\n",
    "\n",
    "**1) BeautifulSoup**\n",
    "\n",
    "- html 문서에서 원하는 정보를 손쉽게 가져올 수 있는 방법을 제공한다.\n",
    "\n",
    "- 자동으로 인코등을 유니코드로 변환하여 UTF-8로 출력해준다.\n",
    "\n",
    "- lxml, html5lib 파서(Parser)를 이용한다.\n",
    "\n",
    "- https://www.crummy.com/software/BeautifulSoup/bs4/doc/ 에서 기본적인 사용법을 익힐 수 있다.\n",
    "\n",
    "\n",
    "\n",
    "**2) Scrapy**\n",
    "\n",
    "- web scraper framework\n",
    "\n",
    "- 다양한 selector 지원\n",
    "\n",
    "- 파이프 라인\n",
    "\n",
    "- 로깅\n",
    "\n",
    "- 이메일\n",
    "\n",
    "- https://docs.scrapy.org/en/latest/intro/tutorial.html 에서 튜토리얼 및 사용법을 익힐 수 있다.\n",
    "\n",
    "\n",
    "\n",
    "\n",
    "\n",
    "출처: https://excelsior-cjh.tistory.com/84?category=952027 [EXCELSIOR]"
   ]
  },
  {
   "cell_type": "markdown",
   "metadata": {},
   "source": [
    "### DataFrame 만들기\n",
    "- 네이버금융에서 원하는 종목의 주식데이터를 가져오기 위해 먼저 코스피(KOSPI)과 코스닥(KOSDAQ)의 종목코드가 필요하다. 한국거래소(krx)에서는 주식시장에 상장된 기업들에 대해 종목코드를 제공한다. pandas모듈의 pandas.read_html()을 이용해 종목코드를 가져올 수 있다. pandas.read_html()은 HTML에서 <table></table>태그를 찾아 자동으로 DataFrame형식으로 만들어준다. 아래의 소스코드를 통해 주식의 종목코드를 가져올 수 있다.\n"
   ]
  },
  {
   "cell_type": "code",
   "execution_count": 9,
   "metadata": {
    "scrolled": true
   },
   "outputs": [],
   "source": [
    "import pandas as pd\n",
    "# 해당 링크는 한국거래소에서 상장법인목록을 엑셀로 다운로드하는 링크입니다.\n",
    "code_df = pd.read_html('http://kind.krx.co.kr/corpgeneral/corpList.do?method=download&searchType=13', header=0)[0]\n",
    "\n",
    "# 종목코드가 6자리이기 때문에 6자리를 맞춰주기 위해 설정해줌\n",
    "code_df.종목코드 = code_df.종목코드.map('{:06d}'.format)\n"
   ]
  },
  {
   "cell_type": "code",
   "execution_count": 16,
   "metadata": {
    "scrolled": true
   },
   "outputs": [
    {
     "data": {
      "text/html": [
       "<div>\n",
       "<style scoped>\n",
       "    .dataframe tbody tr th:only-of-type {\n",
       "        vertical-align: middle;\n",
       "    }\n",
       "\n",
       "    .dataframe tbody tr th {\n",
       "        vertical-align: top;\n",
       "    }\n",
       "\n",
       "    .dataframe thead th {\n",
       "        text-align: right;\n",
       "    }\n",
       "</style>\n",
       "<table border=\"1\" class=\"dataframe\">\n",
       "  <thead>\n",
       "    <tr style=\"text-align: right;\">\n",
       "      <th></th>\n",
       "      <th>회사명</th>\n",
       "      <th>종목코드</th>\n",
       "      <th>업종</th>\n",
       "      <th>주요제품</th>\n",
       "      <th>상장일</th>\n",
       "      <th>결산월</th>\n",
       "      <th>대표자명</th>\n",
       "      <th>홈페이지</th>\n",
       "      <th>지역</th>\n",
       "    </tr>\n",
       "  </thead>\n",
       "  <tbody>\n",
       "    <tr>\n",
       "      <th>2127</th>\n",
       "      <td>유수홀딩스</td>\n",
       "      <td>000700</td>\n",
       "      <td>회사 본부 및 경영 컨설팅 서비스업</td>\n",
       "      <td>지주사업</td>\n",
       "      <td>1956-03-03</td>\n",
       "      <td>12월</td>\n",
       "      <td>송영규</td>\n",
       "      <td>http://www.eusu-holdings.com</td>\n",
       "      <td>서울특별시</td>\n",
       "    </tr>\n",
       "    <tr>\n",
       "      <th>1499</th>\n",
       "      <td>경방</td>\n",
       "      <td>000050</td>\n",
       "      <td>종합 소매업</td>\n",
       "      <td>섬유류(면사,면혼방사,면직물,면혼방직물,화섬사,화섬직물) 제조,도매,수출입</td>\n",
       "      <td>1956-03-03</td>\n",
       "      <td>12월</td>\n",
       "      <td>김준, 김담</td>\n",
       "      <td>http://www.kyungbang.co.kr</td>\n",
       "      <td>서울특별시</td>\n",
       "    </tr>\n",
       "    <tr>\n",
       "      <th>1010</th>\n",
       "      <td>한진중공업홀딩스</td>\n",
       "      <td>003480</td>\n",
       "      <td>연료용 가스 제조 및 배관공급업</td>\n",
       "      <td>지주회사</td>\n",
       "      <td>1956-03-03</td>\n",
       "      <td>12월</td>\n",
       "      <td>조남호, 조원국</td>\n",
       "      <td>http://www.hhic-holdings.com</td>\n",
       "      <td>경기도</td>\n",
       "    </tr>\n",
       "    <tr>\n",
       "      <th>902</th>\n",
       "      <td>CJ대한통운</td>\n",
       "      <td>000120</td>\n",
       "      <td>도로 화물 운송업</td>\n",
       "      <td>Contract Logistics, 포워딩, 항만하역, 해운, 택배국제특송, SCM...</td>\n",
       "      <td>1956-07-02</td>\n",
       "      <td>12월</td>\n",
       "      <td>박근희</td>\n",
       "      <td>http://www.cjlogistics.com</td>\n",
       "      <td>서울특별시</td>\n",
       "    </tr>\n",
       "    <tr>\n",
       "      <th>1521</th>\n",
       "      <td>메리츠화재</td>\n",
       "      <td>000060</td>\n",
       "      <td>보험업</td>\n",
       "      <td>손해보험(화재,해상,운송보험)</td>\n",
       "      <td>1956-07-02</td>\n",
       "      <td>12월</td>\n",
       "      <td>김용범</td>\n",
       "      <td>http://www.meritzfire.com</td>\n",
       "      <td>서울특별시</td>\n",
       "    </tr>\n",
       "  </tbody>\n",
       "</table>\n",
       "</div>"
      ],
      "text/plain": [
       "           회사명    종목코드                   업종  \\\n",
       "2127     유수홀딩스  000700  회사 본부 및 경영 컨설팅 서비스업   \n",
       "1499        경방  000050               종합 소매업   \n",
       "1010  한진중공업홀딩스  003480    연료용 가스 제조 및 배관공급업   \n",
       "902     CJ대한통운  000120            도로 화물 운송업   \n",
       "1521     메리츠화재  000060                  보험업   \n",
       "\n",
       "                                                   주요제품         상장일  결산월  \\\n",
       "2127                                               지주사업  1956-03-03  12월   \n",
       "1499          섬유류(면사,면혼방사,면직물,면혼방직물,화섬사,화섬직물) 제조,도매,수출입  1956-03-03  12월   \n",
       "1010                                               지주회사  1956-03-03  12월   \n",
       "902   Contract Logistics, 포워딩, 항만하역, 해운, 택배국제특송, SCM...  1956-07-02  12월   \n",
       "1521                                   손해보험(화재,해상,운송보험)  1956-07-02  12월   \n",
       "\n",
       "          대표자명                          홈페이지     지역  \n",
       "2127       송영규  http://www.eusu-holdings.com  서울특별시  \n",
       "1499    김준, 김담    http://www.kyungbang.co.kr  서울특별시  \n",
       "1010  조남호, 조원국  http://www.hhic-holdings.com    경기도  \n",
       "902        박근희    http://www.cjlogistics.com  서울특별시  \n",
       "1521       김용범     http://www.meritzfire.com  서울특별시  "
      ]
     },
     "execution_count": 16,
     "metadata": {},
     "output_type": "execute_result"
    }
   ],
   "source": [
    "# pandas data frame을 '상장일' 기준으로 정렬 (ascending=[True], [False]로 오름차순, 내림차순 정렬)\n",
    "# 해당 링크는 한국거래소에서 상장법인목록을 엑셀로 다운로드하는 링크입니다.\n",
    "\n",
    "code_df = code_df.sort_values(['상장일'], ascending=[True])\n",
    "code_df.head()"
   ]
  },
  {
   "cell_type": "code",
   "execution_count": 18,
   "metadata": {},
   "outputs": [
    {
     "name": "stdout",
     "output_type": "stream",
     "text": [
      "          name    code\n",
      "2127     유수홀딩스  000700\n",
      "1499        경방  000050\n",
      "1010  한진중공업홀딩스  003480\n",
      "902     CJ대한통운  000120\n",
      "1521     메리츠화재  000060\n"
     ]
    }
   ],
   "source": [
    "# 우리가 필요한 것은 회사명과 종목코드이기 때문에 필요없는 column들은 제외해준다.\n",
    "code_df = code_df[['회사명', '종목코드']]\n",
    "\n",
    "# 한글로된 컬럼명을 영어로 바꿔준다.\n",
    "code_df = code_df.rename(columns={'회사명': 'name', '종목코드': 'code'})\n",
    "\n",
    "\n",
    "print(code_df.head())"
   ]
  },
  {
   "cell_type": "markdown",
   "metadata": {},
   "source": [
    "### 해외주식"
   ]
  },
  {
   "cell_type": "code",
   "execution_count": 19,
   "metadata": {
    "scrolled": true
   },
   "outputs": [
    {
     "ename": "SyntaxError",
     "evalue": "invalid syntax (<ipython-input-19-1380322c63b9>, line 3)",
     "output_type": "error",
     "traceback": [
      "\u001b[0;36m  File \u001b[0;32m\"<ipython-input-19-1380322c63b9>\"\u001b[0;36m, line \u001b[0;32m3\u001b[0m\n\u001b[0;31m    pip install pandas-datareader\u001b[0m\n\u001b[0m              ^\u001b[0m\n\u001b[0;31mSyntaxError\u001b[0m\u001b[0;31m:\u001b[0m invalid syntax\n"
     ]
    }
   ],
   "source": [
    "# 주식 데이터를 가져오기 위해(yahoo의 API를 사용할 예정)\n",
    "# 더 많은 정보는 https://pydata.github.io/pandas-datareader/\n",
    "pip install pandas-datareader"
   ]
  },
  {
   "cell_type": "code",
   "execution_count": 20,
   "metadata": {},
   "outputs": [],
   "source": [
    "import pandas_datareader as web\n",
    "apple_df = web.DataReader('AAPL', data_source='yahoo',start='2012-01-01', end='2020-11-12')"
   ]
  },
  {
   "cell_type": "code",
   "execution_count": 21,
   "metadata": {},
   "outputs": [
    {
     "data": {
      "text/html": [
       "<div>\n",
       "<style scoped>\n",
       "    .dataframe tbody tr th:only-of-type {\n",
       "        vertical-align: middle;\n",
       "    }\n",
       "\n",
       "    .dataframe tbody tr th {\n",
       "        vertical-align: top;\n",
       "    }\n",
       "\n",
       "    .dataframe thead th {\n",
       "        text-align: right;\n",
       "    }\n",
       "</style>\n",
       "<table border=\"1\" class=\"dataframe\">\n",
       "  <thead>\n",
       "    <tr style=\"text-align: right;\">\n",
       "      <th></th>\n",
       "      <th>High</th>\n",
       "      <th>Low</th>\n",
       "      <th>Open</th>\n",
       "      <th>Close</th>\n",
       "      <th>Volume</th>\n",
       "      <th>Adj Close</th>\n",
       "    </tr>\n",
       "  </thead>\n",
       "  <tbody>\n",
       "    <tr>\n",
       "      <th>count</th>\n",
       "      <td>2232.000000</td>\n",
       "      <td>2232.000000</td>\n",
       "      <td>2232.000000</td>\n",
       "      <td>2232.000000</td>\n",
       "      <td>2.232000e+03</td>\n",
       "      <td>2232.000000</td>\n",
       "    </tr>\n",
       "    <tr>\n",
       "      <th>mean</th>\n",
       "      <td>37.928822</td>\n",
       "      <td>37.150610</td>\n",
       "      <td>37.539042</td>\n",
       "      <td>37.554363</td>\n",
       "      <td>2.303072e+08</td>\n",
       "      <td>35.602059</td>\n",
       "    </tr>\n",
       "    <tr>\n",
       "      <th>std</th>\n",
       "      <td>22.614378</td>\n",
       "      <td>21.936257</td>\n",
       "      <td>22.285992</td>\n",
       "      <td>22.291897</td>\n",
       "      <td>1.808494e+08</td>\n",
       "      <td>22.852338</td>\n",
       "    </tr>\n",
       "    <tr>\n",
       "      <th>min</th>\n",
       "      <td>14.271428</td>\n",
       "      <td>13.753572</td>\n",
       "      <td>13.856071</td>\n",
       "      <td>13.947500</td>\n",
       "      <td>2.880380e+07</td>\n",
       "      <td>12.110260</td>\n",
       "    </tr>\n",
       "    <tr>\n",
       "      <th>25%</th>\n",
       "      <td>22.729107</td>\n",
       "      <td>22.332144</td>\n",
       "      <td>22.541786</td>\n",
       "      <td>22.567589</td>\n",
       "      <td>1.105652e+08</td>\n",
       "      <td>19.475161</td>\n",
       "    </tr>\n",
       "    <tr>\n",
       "      <th>50%</th>\n",
       "      <td>29.810000</td>\n",
       "      <td>29.281250</td>\n",
       "      <td>29.505000</td>\n",
       "      <td>29.592501</td>\n",
       "      <td>1.674684e+08</td>\n",
       "      <td>27.344378</td>\n",
       "    </tr>\n",
       "    <tr>\n",
       "      <th>75%</th>\n",
       "      <td>45.675625</td>\n",
       "      <td>44.693749</td>\n",
       "      <td>45.119376</td>\n",
       "      <td>45.229376</td>\n",
       "      <td>2.836813e+08</td>\n",
       "      <td>43.835016</td>\n",
       "    </tr>\n",
       "    <tr>\n",
       "      <th>max</th>\n",
       "      <td>137.979996</td>\n",
       "      <td>130.529999</td>\n",
       "      <td>137.589996</td>\n",
       "      <td>134.179993</td>\n",
       "      <td>1.506120e+09</td>\n",
       "      <td>133.948898</td>\n",
       "    </tr>\n",
       "  </tbody>\n",
       "</table>\n",
       "</div>"
      ],
      "text/plain": [
       "              High          Low         Open        Close        Volume  \\\n",
       "count  2232.000000  2232.000000  2232.000000  2232.000000  2.232000e+03   \n",
       "mean     37.928822    37.150610    37.539042    37.554363  2.303072e+08   \n",
       "std      22.614378    21.936257    22.285992    22.291897  1.808494e+08   \n",
       "min      14.271428    13.753572    13.856071    13.947500  2.880380e+07   \n",
       "25%      22.729107    22.332144    22.541786    22.567589  1.105652e+08   \n",
       "50%      29.810000    29.281250    29.505000    29.592501  1.674684e+08   \n",
       "75%      45.675625    44.693749    45.119376    45.229376  2.836813e+08   \n",
       "max     137.979996   130.529999   137.589996   134.179993  1.506120e+09   \n",
       "\n",
       "         Adj Close  \n",
       "count  2232.000000  \n",
       "mean     35.602059  \n",
       "std      22.852338  \n",
       "min      12.110260  \n",
       "25%      19.475161  \n",
       "50%      27.344378  \n",
       "75%      43.835016  \n",
       "max     133.948898  "
      ]
     },
     "execution_count": 21,
     "metadata": {},
     "output_type": "execute_result"
    }
   ],
   "source": [
    "# 결측값 확인\n",
    "apple_df.describe()"
   ]
  },
  {
   "cell_type": "code",
   "execution_count": 22,
   "metadata": {},
   "outputs": [
    {
     "data": {
      "text/html": [
       "<div>\n",
       "<style scoped>\n",
       "    .dataframe tbody tr th:only-of-type {\n",
       "        vertical-align: middle;\n",
       "    }\n",
       "\n",
       "    .dataframe tbody tr th {\n",
       "        vertical-align: top;\n",
       "    }\n",
       "\n",
       "    .dataframe thead th {\n",
       "        text-align: right;\n",
       "    }\n",
       "</style>\n",
       "<table border=\"1\" class=\"dataframe\">\n",
       "  <thead>\n",
       "    <tr style=\"text-align: right;\">\n",
       "      <th></th>\n",
       "      <th>High</th>\n",
       "      <th>Low</th>\n",
       "      <th>Open</th>\n",
       "      <th>Close</th>\n",
       "      <th>Volume</th>\n",
       "      <th>Adj Close</th>\n",
       "    </tr>\n",
       "    <tr>\n",
       "      <th>Date</th>\n",
       "      <th></th>\n",
       "      <th></th>\n",
       "      <th></th>\n",
       "      <th></th>\n",
       "      <th></th>\n",
       "      <th></th>\n",
       "    </tr>\n",
       "  </thead>\n",
       "  <tbody>\n",
       "    <tr>\n",
       "      <th>2020-11-06</th>\n",
       "      <td>119.199997</td>\n",
       "      <td>116.129997</td>\n",
       "      <td>118.320000</td>\n",
       "      <td>118.690002</td>\n",
       "      <td>114457900.0</td>\n",
       "      <td>118.690002</td>\n",
       "    </tr>\n",
       "    <tr>\n",
       "      <th>2020-11-09</th>\n",
       "      <td>121.989998</td>\n",
       "      <td>116.050003</td>\n",
       "      <td>120.500000</td>\n",
       "      <td>116.320000</td>\n",
       "      <td>154515300.0</td>\n",
       "      <td>116.320000</td>\n",
       "    </tr>\n",
       "    <tr>\n",
       "      <th>2020-11-10</th>\n",
       "      <td>117.589996</td>\n",
       "      <td>114.129997</td>\n",
       "      <td>115.550003</td>\n",
       "      <td>115.970001</td>\n",
       "      <td>138023400.0</td>\n",
       "      <td>115.970001</td>\n",
       "    </tr>\n",
       "    <tr>\n",
       "      <th>2020-11-11</th>\n",
       "      <td>119.629997</td>\n",
       "      <td>116.440002</td>\n",
       "      <td>117.190002</td>\n",
       "      <td>119.489998</td>\n",
       "      <td>112295000.0</td>\n",
       "      <td>119.489998</td>\n",
       "    </tr>\n",
       "    <tr>\n",
       "      <th>2020-11-12</th>\n",
       "      <td>120.529999</td>\n",
       "      <td>118.570000</td>\n",
       "      <td>119.620003</td>\n",
       "      <td>119.209999</td>\n",
       "      <td>103162300.0</td>\n",
       "      <td>119.209999</td>\n",
       "    </tr>\n",
       "  </tbody>\n",
       "</table>\n",
       "</div>"
      ],
      "text/plain": [
       "                  High         Low        Open       Close       Volume  \\\n",
       "Date                                                                      \n",
       "2020-11-06  119.199997  116.129997  118.320000  118.690002  114457900.0   \n",
       "2020-11-09  121.989998  116.050003  120.500000  116.320000  154515300.0   \n",
       "2020-11-10  117.589996  114.129997  115.550003  115.970001  138023400.0   \n",
       "2020-11-11  119.629997  116.440002  117.190002  119.489998  112295000.0   \n",
       "2020-11-12  120.529999  118.570000  119.620003  119.209999  103162300.0   \n",
       "\n",
       "             Adj Close  \n",
       "Date                    \n",
       "2020-11-06  118.690002  \n",
       "2020-11-09  116.320000  \n",
       "2020-11-10  115.970001  \n",
       "2020-11-11  119.489998  \n",
       "2020-11-12  119.209999  "
      ]
     },
     "execution_count": 22,
     "metadata": {},
     "output_type": "execute_result"
    }
   ],
   "source": [
    "apple_df.tail(5) # apple_df.head(5)"
   ]
  },
  {
   "cell_type": "code",
   "execution_count": 23,
   "metadata": {},
   "outputs": [
    {
     "data": {
      "text/plain": [
       "(2232, 6)"
      ]
     },
     "execution_count": 23,
     "metadata": {},
     "output_type": "execute_result"
    }
   ],
   "source": [
    "apple_df.shape"
   ]
  },
  {
   "cell_type": "code",
   "execution_count": 24,
   "metadata": {
    "scrolled": false
   },
   "outputs": [
    {
     "data": {
      "image/png": "[encoded data removed]",
      "text/plain": [
       "<Figure size 1152x576 with 1 Axes>"
      ]
     },
     "metadata": {
      "needs_background": "light"
     },
     "output_type": "display_data"
    }
   ],
   "source": [
    "import matplotlib.pyplot as plt\n",
    "# 종가그래프 plotting하기\n",
    "# https://dailyheumsi.tistory.com/36\n",
    "plt.figure(figsize=(16,8))\n",
    "plt.title('Close Price History')\n",
    "plt.plot(apple_df['Close'])\n",
    "plt.xlabel('Date', fontsize=18)\n",
    "plt.ylabel('Close Price USD ($)', fontsize=18)\n",
    "plt.show()"
   ]
  },
  {
   "cell_type": "markdown",
   "metadata": {},
   "source": [
    "### DataSet 분리 이유\n",
    "- 기계학습에서 학습시킨 데이터만을 가지고 테스트를 진행하면 거의 100% 확률로 일치를 할 것입니다. 비유를 하자면 학교에서 시험을 보는데 시험에 나올 문제를 한번씩 풀어보고나서 시험을 같은 문제로 보는거랑 같은겁니다.\n",
    "- 따라서, 보통 70%정도는 학습에 사용하고 30%는 학습이 완료된 후 검증을 하기 위해 사용합니다.\n",
    "- 보통은 이렇게 트레이닝셋과 테스트셋으로 구분지어서 사용하지만 경우에 따라서 트레이닝셋을 벨리데이션셋을 추가로 구분지어서 튜닝에 사용하기도 합니다. \n",
    "\n",
    "<img src = 'https://mblogthumb-phinf.pstatic.net/MjAxNzA2MjRfNyAg/MDAxNDk4MjgxMzM1ODAz.fgtxu_m0l0Mhm3_1ocVhZZx5Qyac8YYtkliUJ2kMqjEg.0ZW08erRvPBJKw8Z7ugXYEQN4OtWaBJAI-hwonMN8M8g.PNG.wndrlf2003/1.png?type=w2'>"
   ]
  },
  {
   "cell_type": "code",
   "execution_count": 25,
   "metadata": {},
   "outputs": [
    {
     "data": {
      "text/plain": [
       "1786"
      ]
     },
     "execution_count": 25,
     "metadata": {},
     "output_type": "execute_result"
    }
   ],
   "source": [
    "# 새로운 DataFrame을 'Close column만 가져오기\n",
    "data = apple_df.filter(['Close'])\n",
    "# data -> np array로 바꾸기\n",
    "dataset = data.values\n",
    "# 모델의 train set 만들기\n",
    "training_data_len = math.ceil(len(dataset) * .8)\n",
    "\n",
    "# training set 길이\n",
    "training_data_len"
   ]
  },
  {
   "cell_type": "code",
   "execution_count": 26,
   "metadata": {},
   "outputs": [
    {
     "data": {
      "text/plain": [
       "array([[0.0061488 ],\n",
       "       [0.00680527],\n",
       "       [0.00816869],\n",
       "       ...,\n",
       "       [0.84854351],\n",
       "       [0.87782009],\n",
       "       [0.87549128]])"
      ]
     },
     "execution_count": 26,
     "metadata": {},
     "output_type": "execute_result"
    }
   ],
   "source": [
    "# 데이터를 스케일합니다 (0~1) [sklearn 메써드]\n",
    "scaler = MinMaxScaler(feature_range=(0,1))\n",
    "scaled_data = scaler.fit_transform(dataset)\n",
    "\n",
    "scaled_data"
   ]
  },
  {
   "cell_type": "markdown",
   "metadata": {},
   "source": [
    "### 교차 검증 (N-Fold Cross-Validation)\n",
    "- 데이터가 충분치 않을 경우 80/20으로 나누면 여전히 많은 양의 분산이 발생한다. 이에 대한 한 가지 해결책은 N-Fold 교차 검증을 수행하는 것, 즉 전체 프로세스를 N번 수행하고 모든 수행에서 나온 정확도의 평균을 구하는 방법이다.\n",
    "\n",
    "- 예를 들어, 10번 교차 검증을 한다고 하면 아래와 같은 그림으로 표현할 수 있다.\n",
    "<img src = 'https://i1.wp.com/hleecaster.com/wp-content/uploads/2019/12/10fold.jpg?w=748'>\n",
    "- 당연히 이렇게 구한 **정확도의 평균 값**이 아무래도 모델의 평균 성능을 더 잘 나타낸다고 볼 수 있다.\n",
    "\n",
    "- 그리고 이걸 일일이 하기 귀찮으니 scikit-learn에서는 아예 이런 기능을 제공하고 있기도 하다."
   ]
  },
  {
   "cell_type": "code",
   "execution_count": 27,
   "metadata": {},
   "outputs": [
    {
     "name": "stdout",
     "output_type": "stream",
     "text": [
      "[array([0.0061488 , 0.00680527, 0.00816869, 0.00946678, 0.00926776,\n",
      "       0.00971629, 0.00951133, 0.00916676, 0.00869744, 0.01014998,\n",
      "       0.01145994, 0.01105596, 0.00884299, 0.01095496, 0.00887566,\n",
      "       0.01667305, 0.01607005, 0.01685722, 0.01855928, 0.01959001,\n",
      "       0.01950387, 0.01918604, 0.02054056, 0.02181487, 0.02325851,\n",
      "       0.0255903 , 0.03048855, 0.03056281, 0.03328967, 0.03532738,\n",
      "       0.03182524, 0.03317382, 0.03314709, 0.03692846, 0.0363908 ,\n",
      "       0.03738589, 0.0391741 , 0.0401692 , 0.04303567, 0.04512389,\n",
      "       0.04572687, 0.04593778, 0.04236733, 0.04150589, 0.04163362,\n",
      "       0.04499021, 0.04593482, 0.04796361, 0.05274602, 0.05912652,\n",
      "       0.0579324 , 0.05793537, 0.06254846, 0.06399208, 0.06296431,\n",
      "       0.06202567, 0.06104839, 0.06429507, 0.06652291, 0.06745562])]\n",
      "[0.06515055661523342]\n",
      "\n",
      "[array([0.0061488 , 0.00680527, 0.00816869, 0.00946678, 0.00926776,\n",
      "       0.00971629, 0.00951133, 0.00916676, 0.00869744, 0.01014998,\n",
      "       0.01145994, 0.01105596, 0.00884299, 0.01095496, 0.00887566,\n",
      "       0.01667305, 0.01607005, 0.01685722, 0.01855928, 0.01959001,\n",
      "       0.01950387, 0.01918604, 0.02054056, 0.02181487, 0.02325851,\n",
      "       0.0255903 , 0.03048855, 0.03056281, 0.03328967, 0.03532738,\n",
      "       0.03182524, 0.03317382, 0.03314709, 0.03692846, 0.0363908 ,\n",
      "       0.03738589, 0.0391741 , 0.0401692 , 0.04303567, 0.04512389,\n",
      "       0.04572687, 0.04593778, 0.04236733, 0.04150589, 0.04163362,\n",
      "       0.04499021, 0.04593482, 0.04796361, 0.05274602, 0.05912652,\n",
      "       0.0579324 , 0.05793537, 0.06254846, 0.06399208, 0.06296431,\n",
      "       0.06202567, 0.06104839, 0.06429507, 0.06652291, 0.06745562]), array([0.00680527, 0.00816869, 0.00946678, 0.00926776, 0.00971629,\n",
      "       0.00951133, 0.00916676, 0.00869744, 0.01014998, 0.01145994,\n",
      "       0.01105596, 0.00884299, 0.01095496, 0.00887566, 0.01667305,\n",
      "       0.01607005, 0.01685722, 0.01855928, 0.01959001, 0.01950387,\n",
      "       0.01918604, 0.02054056, 0.02181487, 0.02325851, 0.0255903 ,\n",
      "       0.03048855, 0.03056281, 0.03328967, 0.03532738, 0.03182524,\n",
      "       0.03317382, 0.03314709, 0.03692846, 0.0363908 , 0.03738589,\n",
      "       0.0391741 , 0.0401692 , 0.04303567, 0.04512389, 0.04572687,\n",
      "       0.04593778, 0.04236733, 0.04150589, 0.04163362, 0.04499021,\n",
      "       0.04593482, 0.04796361, 0.05274602, 0.05912652, 0.0579324 ,\n",
      "       0.05793537, 0.06254846, 0.06399208, 0.06296431, 0.06202567,\n",
      "       0.06104839, 0.06429507, 0.06652291, 0.06745562, 0.06515056])]\n",
      "[0.06515055661523342, 0.062088042929699744]\n",
      "\n"
     ]
    }
   ],
   "source": [
    "#Create the training data set\n",
    "# 스케일된 data set DataFrame 만들기\n",
    "train_data = scaled_data[0:training_data_len , :] # 1 ~ 1786\n",
    "# x,y로 나누기\n",
    "x_train = []\n",
    "y_train = []\n",
    "\n",
    "for i in range(60,len(train_data)):\n",
    "    x_train.append(train_data[i-60:i , 0])\n",
    "    y_train.append(train_data[i,0])\n",
    "    if i<=61:\n",
    "        print(x_train)\n",
    "        print(y_train)\n",
    "        print()"
   ]
  },
  {
   "cell_type": "code",
   "execution_count": 28,
   "metadata": {},
   "outputs": [
    {
     "data": {
      "text/plain": [
       "(1726, 60, 1)"
      ]
     },
     "execution_count": 28,
     "metadata": {},
     "output_type": "execute_result"
    }
   ],
   "source": [
    "# x_train, y_train를 numpy arrays로 바꾸기\n",
    "x_train, y_train = np.array(x_train), np.array(y_train)\n",
    "# data를 reshape 합니다.\n",
    "x_train = np.reshape(x_train, (x_train.shape[0], x_train.shape[1], 1))\n",
    "x_train.shape"
   ]
  },
  {
   "cell_type": "code",
   "execution_count": 29,
   "metadata": {},
   "outputs": [],
   "source": [
    "# LSTM model build 하기\n",
    "# 시계열 모델 \n",
    "model = Sequential()\n",
    "model.add(LSTM(50, return_sequences=True, input_shape = (x_train.shape[1], 1)))\n",
    "model.add(LSTM(50, return_sequences = False))\n",
    "model.add(Dense(25))\n",
    "model.add(Dense(1))\n",
    "\n",
    "#Compile the model\n",
    "model.compile(optimizer='adam', loss='mean_squared_error')\n"
   ]
  },
  {
   "cell_type": "markdown",
   "metadata": {},
   "source": [
    "<img src = 'https://mblogthumb-phinf.pstatic.net/MjAxOTAxMjNfMjU4/MDAxNTQ4MjM1Nzg3NTA2.UtvnGsckZhLHOPPOBWH841IWsZFzNcgwZvYKi2nxImEg.CdtqIxOjWeBo4eNBD2pXu5uwYGa3ZVUr8WZvtldArtYg.PNG.qbxlvnf11/20190123_182720.png?type=w800'>\n",
    "\n",
    "- keras : <a  https://teddylee777.github.io/tensorflow/LSTM%EC%9C%BC%EB%A1%9C-%EC%98%88%EC%B8%A1%ED%95%B4%EB%B3%B4%EB%8A%94-%EC%82%BC%EC%84%B1%EC%A0%84%EC%9E%90-%EC%A3%BC%EA%B0%80>"
   ]
  },
  {
   "cell_type": "code",
   "execution_count": 30,
   "metadata": {},
   "outputs": [
    {
     "name": "stdout",
     "output_type": "stream",
     "text": [
      "1726/1726 [==============================] - 28s 16ms/step - loss: 2.9646e-04\n"
     ]
    },
    {
     "data": {
      "text/plain": [
       "<tensorflow.python.keras.callbacks.History at 0x7fd86447da50>"
      ]
     },
     "execution_count": 30,
     "metadata": {},
     "output_type": "execute_result"
    }
   ],
   "source": [
    "# model Train하기\n",
    "model.fit(x_train, y_train, batch_size=1, epochs=1)"
   ]
  },
  {
   "cell_type": "code",
   "execution_count": 32,
   "metadata": {},
   "outputs": [],
   "source": [
    "# testing data set 생성\n",
    "# index가 1786 ~ 2232인 새로운 scaled value로 이루어진 np array 를 만들기\n",
    "test_data = scaled_data[training_data_len - 60: , :]\n",
    "\n",
    "x_test = []\n",
    "y_test = dataset[training_data_len: , :]\n",
    "for i in range (60, len(test_data)):\n",
    "    x_test.append(test_data[i-60:i , 0])\n",
    "x_test = np.array(x_test)\n",
    "x_test = np.reshape(x_test, (x_test.shape[0], x_test.shape[1], 1))"
   ]
  },
  {
   "cell_type": "code",
   "execution_count": 33,
   "metadata": {},
   "outputs": [
    {
     "data": {
      "text/plain": [
       "3.310848928887748"
      ]
     },
     "execution_count": 33,
     "metadata": {},
     "output_type": "execute_result"
    }
   ],
   "source": [
    "#Get the models predicted price values \n",
    "predictions = model.predict(x_test)\n",
    "predictions = scaler.inverse_transform(predictions)\n",
    "#Get the root mean squared error (RMSE)\n",
    "rmse = np.sqrt( np.mean( predictions - y_test)**2)\n",
    "rmse"
   ]
  },
  {
   "cell_type": "code",
   "execution_count": 40,
   "metadata": {},
   "outputs": [
    {
     "name": "stderr",
     "output_type": "stream",
     "text": [
      "/Users/kumahoon/opt/anaconda3/lib/python3.7/site-packages/ipykernel_launcher.py:4: SettingWithCopyWarning: \n",
      "A value is trying to be set on a copy of a slice from a DataFrame.\n",
      "Try using .loc[row_indexer,col_indexer] = value instead\n",
      "\n",
      "See the caveats in the documentation: https://pandas.pydata.org/pandas-docs/stable/user_guide/indexing.html#returning-a-view-versus-a-copy\n",
      "  after removing the cwd from sys.path.\n"
     ]
    },
    {
     "data": {
      "image/png": "[encoded data removed]",
      "text/plain": [
       "<Figure size 1152x576 with 1 Axes>"
      ]
     },
     "metadata": {
      "needs_background": "light"
     },
     "output_type": "display_data"
    }
   ],
   "source": [
    "# Data Plot하기\n",
    "train = data[:training_data_len] # 1 ~ 1785\n",
    "valid = data[training_data_len:] # 1786 ~ 2232\n",
    "valid['Predictions'] = predictions\n",
    "# Visualize the data \n",
    "plt.figure(figsize=(16,8))\n",
    "plt.title('Model')\n",
    "plt.xlabel('Date',fontsize=18)\n",
    "plt.ylabel('Close Price USD ($)', fontsize = 18)\n",
    "plt.plot(train['Close'])\n",
    "plt.plot(valid[['Close', 'Predictions']])\n",
    "# plt.plot(predictions.loc['Close']) -> ndarray라서 안됨\n",
    "plt.legend(['Train', 'Val', 'Predictions'], loc ='lower right')\n",
    "plt.show()"
   ]
  },
  {
   "cell_type": "code",
   "execution_count": 41,
   "metadata": {},
   "outputs": [
    {
     "data": {
      "text/html": [
       "<div>\n",
       "<style scoped>\n",
       "    .dataframe tbody tr th:only-of-type {\n",
       "        vertical-align: middle;\n",
       "    }\n",
       "\n",
       "    .dataframe tbody tr th {\n",
       "        vertical-align: top;\n",
       "    }\n",
       "\n",
       "    .dataframe thead th {\n",
       "        text-align: right;\n",
       "    }\n",
       "</style>\n",
       "<table border=\"1\" class=\"dataframe\">\n",
       "  <thead>\n",
       "    <tr style=\"text-align: right;\">\n",
       "      <th></th>\n",
       "      <th>Close</th>\n",
       "      <th>Predictions</th>\n",
       "    </tr>\n",
       "    <tr>\n",
       "      <th>Date</th>\n",
       "      <th></th>\n",
       "      <th></th>\n",
       "    </tr>\n",
       "  </thead>\n",
       "  <tbody>\n",
       "    <tr>\n",
       "      <th>2019-02-08</th>\n",
       "      <td>42.602501</td>\n",
       "      <td>44.562542</td>\n",
       "    </tr>\n",
       "    <tr>\n",
       "      <th>2019-02-11</th>\n",
       "      <td>42.357498</td>\n",
       "      <td>44.893322</td>\n",
       "    </tr>\n",
       "    <tr>\n",
       "      <th>2019-02-12</th>\n",
       "      <td>42.722500</td>\n",
       "      <td>45.090458</td>\n",
       "    </tr>\n",
       "    <tr>\n",
       "      <th>2019-02-13</th>\n",
       "      <td>42.544998</td>\n",
       "      <td>45.231441</td>\n",
       "    </tr>\n",
       "    <tr>\n",
       "      <th>2019-02-14</th>\n",
       "      <td>42.700001</td>\n",
       "      <td>45.309700</td>\n",
       "    </tr>\n",
       "    <tr>\n",
       "      <th>...</th>\n",
       "      <td>...</td>\n",
       "      <td>...</td>\n",
       "    </tr>\n",
       "    <tr>\n",
       "      <th>2020-11-06</th>\n",
       "      <td>118.690002</td>\n",
       "      <td>117.201569</td>\n",
       "    </tr>\n",
       "    <tr>\n",
       "      <th>2020-11-09</th>\n",
       "      <td>116.320000</td>\n",
       "      <td>118.068871</td>\n",
       "    </tr>\n",
       "    <tr>\n",
       "      <th>2020-11-10</th>\n",
       "      <td>115.970001</td>\n",
       "      <td>118.782730</td>\n",
       "    </tr>\n",
       "    <tr>\n",
       "      <th>2020-11-11</th>\n",
       "      <td>119.489998</td>\n",
       "      <td>119.321075</td>\n",
       "    </tr>\n",
       "    <tr>\n",
       "      <th>2020-11-12</th>\n",
       "      <td>119.209999</td>\n",
       "      <td>120.066261</td>\n",
       "    </tr>\n",
       "  </tbody>\n",
       "</table>\n",
       "<p>446 rows × 2 columns</p>\n",
       "</div>"
      ],
      "text/plain": [
       "                 Close  Predictions\n",
       "Date                               \n",
       "2019-02-08   42.602501    44.562542\n",
       "2019-02-11   42.357498    44.893322\n",
       "2019-02-12   42.722500    45.090458\n",
       "2019-02-13   42.544998    45.231441\n",
       "2019-02-14   42.700001    45.309700\n",
       "...                ...          ...\n",
       "2020-11-06  118.690002   117.201569\n",
       "2020-11-09  116.320000   118.068871\n",
       "2020-11-10  115.970001   118.782730\n",
       "2020-11-11  119.489998   119.321075\n",
       "2020-11-12  119.209999   120.066261\n",
       "\n",
       "[446 rows x 2 columns]"
      ]
     },
     "execution_count": 41,
     "metadata": {},
     "output_type": "execute_result"
    }
   ],
   "source": [
    "# 종가와 예측값 비교하기\n",
    "valid"
   ]
  },
  {
   "cell_type": "markdown",
   "metadata": {},
   "source": [
    "## 보완할 점 \n",
    "- Keras의 시계열 분석에 대해 공부한다. \n",
    "- BeautifulSoup 모듈을 통해 다른 주식 Caggle (긁어오기)한다."
   ]
  },
  {
   "cell_type": "code",
   "execution_count": null,
   "metadata": {},
   "outputs": [],
   "source": []
  }
 ],
 "metadata": {
  "kernelspec": {
   "display_name": "Python 3",
   "language": "python",
   "name": "python3"
  },
  "language_info": {
   "codemirror_mode": {
    "name": "ipython",
    "version": 3
   },
   "file_extension": ".py",
   "mimetype": "text/x-python",
   "name": "python",
   "nbconvert_exporter": "python",
   "pygments_lexer": "ipython3",
   "version": "3.7.6"
  },
  "toc": {
   "base_numbering": 1,
   "nav_menu": {},
   "number_sections": true,
   "sideBar": true,
   "skip_h1_title": false,
   "title_cell": "Table of Contents",
   "title_sidebar": "Contents",
   "toc_cell": false,
   "toc_position": {},
   "toc_section_display": true,
   "toc_window_display": false
  }
 },
 "nbformat": 4,
 "nbformat_minor": 4
}
